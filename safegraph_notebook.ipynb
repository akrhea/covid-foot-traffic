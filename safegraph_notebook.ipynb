{
 "cells": [
  {
   "cell_type": "code",
   "execution_count": 20,
   "metadata": {},
   "outputs": [],
   "source": [
    "import pandas as pd\n",
    "import numpy as np\n",
    "import datetime as dt\n",
    "import ast \n",
    "import matplotlib.pyplot as plt\n",
    "from scipy.stats import mode\n",
    "\n",
    "# set cities of interest\n",
    "cities = [('Atlanta', 'GA'), \n",
    "          ('New York', 'NY'), \n",
    "          ('New Orleans', 'LA'), \n",
    "          ('Seattle', 'WA'), \n",
    "          ('Detroit', 'MI')]\n",
    "\n",
    "# set weeks where weekly data available\n",
    "weeks = ['03-01', \n",
    "         '03-08', \n",
    "         '03-15', \n",
    "         '03-22', \n",
    "         '03-29', \n",
    "         '04-05', \n",
    "         '04-12', \n",
    "         '04-19']"
   ]
  },
  {
   "cell_type": "code",
   "execution_count": 21,
   "metadata": {},
   "outputs": [],
   "source": [
    "# filter and concatenate weekly data\n",
    "df = pd.DataFrame()\n",
    "for week in weeks:\n",
    "    filepath = './v1/main-file/2020-{}-weekly-patterns.csv.gz'.format(week)\n",
    "    if week=='04-05':\n",
    "        filepath = './v1/main-file/2020-04-05-weekly-patterns-corrected.csv.gz'\n",
    "    weekly_df = pd.read_csv(filepath)\n",
    "    for city, state in cities:\n",
    "        subset = weekly_df[(weekly_df.city==city) & (weekly_df.region==state)]\n",
    "        df = pd.concat([df, subset])\n",
    "    del weekly_df\n",
    "\n",
    "# save to pickle\n",
    "df.to_pickle('./data/weekly_cities_03-01_through_04-19.csv.gz', \n",
    "             compression='gzip')"
   ]
  },
  {
   "cell_type": "markdown",
   "metadata": {},
   "source": [
    "### Checkpoint - load from here for filtered concatenated weekly data"
   ]
  },
  {
   "cell_type": "code",
   "execution_count": 52,
   "metadata": {},
   "outputs": [],
   "source": [
    "# read from pickle\n",
    "df = pd.read_pickle('./data/weekly_cities_03-01_through_04-19.csv.gz', \n",
    "                    compression='gzip')"
   ]
  },
  {
   "cell_type": "code",
   "execution_count": 14,
   "metadata": {},
   "outputs": [],
   "source": [
    "def vis_list(x):\n",
    "    # converts string of format '[1,2,3]' to list of ints\n",
    "    return np.fromstring(x[1:-1], dtype=int, sep=',')\n",
    "\n",
    "def filter_cities(dataset):\n",
    "    # narrow data to the cities of interest\n",
    "    filtered = pd.DataFrame()\n",
    "    for city, state in cities:\n",
    "        subset = dataset[(dataset.city==city) & (dataset.region==state)]\n",
    "        filtered = pd.concat([filtered, subset])\n",
    "    return filtered\n",
    "\n",
    "def days_and_dates(data, time_type):\n",
    "    \n",
    "    assert time_type=='seconds' or time_type=='YYYY-MM-DD', \\\n",
    "            'time_type must be \\\"seconds\\\" or \\\"YYYY-MM-DD\\\" '\n",
    "\n",
    "    # turn 'visits by day' into list\n",
    "    data['visits_zip'] = data['visits_by_day'].apply(vis_list)\n",
    "    \n",
    "    # create list of all columns except 'visits_zip'\n",
    "    other_cols = list(data.columns)\n",
    "    other_cols.remove('visits_zip')\n",
    "\n",
    "    # Create 1 row for each day\n",
    "    '''\n",
    "    Adapted from: \n",
    "    https://stackoverflow.com/questions/53860398/\n",
    "    pandas-dataframe-how-do-i-split-one-row-into-multiple-rows-by-multi-value-colum\n",
    "    '''\n",
    "    data = data.set_index(other_cols)['visits_zip'] \\\n",
    "               .apply(pd.Series).stack().reset_index() \\\n",
    "               .rename(columns={0:'visits', 'level_{}' \\\n",
    "                                   .format(len(other_cols)): 'days'})\n",
    "    \n",
    "    if time_type=='seconds':\n",
    "        # For historical data, timestamp in UTC in seconds since January 1, 1970\n",
    "        data['start_date'] = pd.to_timedelta(data['date_range_start'], 's') \\\n",
    "                                    + pd.to_datetime('1970, 1, 1')\n",
    "    if time_type=='YYYY-MM-DD':\n",
    "        # For new weekly data, ISO 8601 format of YYYY-MM-DDTHH:mm:SS±hh:mm \n",
    "        # (local time with offset from GMT)\n",
    "        # The start time will be 12 a.m. Sunday in local time.\n",
    "        data['start_date'] = pd.to_datetime(data['date_range_start'] \\\n",
    "                                                   .map(lambda x: x[:10]))\n",
    "\n",
    "    #convert days to time delta\n",
    "    data['days'] = pd.to_timedelta(data['days'], 'd')\n",
    "\n",
    "    # compute date\n",
    "    data['date'] = data['start_date'] + data['days']\n",
    "    \n",
    "    return data\n"
   ]
  },
  {
   "cell_type": "code",
   "execution_count": 55,
   "metadata": {},
   "outputs": [],
   "source": [
    "# process mar-april 2020 data\n",
    "df = days_and_dates(df, time_type='YYYY-MM-DD')"
   ]
  },
  {
   "cell_type": "code",
   "execution_count": 59,
   "metadata": {},
   "outputs": [],
   "source": [
    "# save to pickle\n",
    "df.to_pickle('./data/daily_cities_03-01-2020_04-25-2020.csv.gz',\n",
    "                compression='gzip')"
   ]
  },
  {
   "cell_type": "code",
   "execution_count": 4,
   "metadata": {},
   "outputs": [],
   "source": [
    "# read in feb 2020 data\n",
    "feb20 = pd.concat([pd.read_csv('./data/Feb20-AllPatterns-PATTERNS-2020_02-2020-03-23/patterns-part1.csv.gz', \n",
    "                               compression='gzip'), \n",
    "                   pd.read_csv('./data/Feb20-AllPatterns-PATTERNS-2020_02-2020-03-23/patterns-part2.csv.gz', \n",
    "                               compression='gzip'), \n",
    "                   pd.read_csv('./data/Feb20-AllPatterns-PATTERNS-2020_02-2020-03-23/patterns-part3.csv.gz', \n",
    "                               compression='gzip')])\n",
    "\n",
    "# process feb 2020 data\n",
    "feb20 = filter_cities(feb20)\n",
    "feb20 = days_and_dates(feb20, time_type='seconds')\n",
    "\n",
    "# save to pickle\n",
    "feb20.to_pickle('./data/daily_cities_02-01-2020_02-29-2020.csv.gz',\n",
    "                compression='gzip')"
   ]
  },
  {
   "cell_type": "code",
   "execution_count": 24,
   "metadata": {},
   "outputs": [],
   "source": [
    "# read in jan 2020 data\n",
    "jan20 = pd.concat([pd.read_csv('./data/Jan20-AllPatterns-PATTERNS-2020_01-2020-03-23/patterns-part1.csv.gz', \n",
    "                               compression='gzip'), \n",
    "                   pd.read_csv('./data/Jan20-AllPatterns-PATTERNS-2020_01-2020-03-23/patterns-part2.csv.gz', \n",
    "                               compression='gzip'), \n",
    "                   pd.read_csv('./data/Jan20-AllPatterns-PATTERNS-2020_01-2020-03-23/patterns-part3.csv.gz', \n",
    "                               compression='gzip')])\n",
    "\n",
    "# process jan 2020 data\n",
    "jan20 = filter_cities(jan20)\n",
    "jan20 = days_and_dates(jan20, time_type='seconds')\n",
    "\n",
    "# save to pickle\n",
    "jan20.to_pickle('./data/daily_cities_01-01-2020_01-31-2020.csv.gz',\n",
    "                compression='gzip')"
   ]
  },
  {
   "cell_type": "code",
   "execution_count": 38,
   "metadata": {},
   "outputs": [],
   "source": [
    "# read in historical data for jan 2019\n",
    "jan19 = pd.concat([pd.read_csv('./data/Jan19-AllRecords-PATTERNS-2019_01-2020-03-26/patterns-part1.csv.gz',\n",
    "                   compression='gzip'), \n",
    "                   pd.read_csv('./data/Jan19-AllRecords-PATTERNS-2019_01-2020-03-26/patterns-part2.csv.gz',\n",
    "                   compression='gzip'), \n",
    "                   pd.read_csv('./data/Jan19-AllRecords-PATTERNS-2019_01-2020-03-26/patterns-part3.csv.gz',\n",
    "                   compression='gzip')])\n",
    "\n",
    "# process jan 2019 data\n",
    "jan19 = filter_cities(jan19)\n",
    "jan19 = days_and_dates(jan19, time_type='seconds')\n",
    "\n",
    "# save to pickle\n",
    "jan19.to_pickle('./data/daily_cities_01-01-2019_01-31-2019.csv.gz',\n",
    "                compression='gzip')"
   ]
  },
  {
   "cell_type": "code",
   "execution_count": 31,
   "metadata": {},
   "outputs": [],
   "source": [
    "# read in historical data for feb 2019\n",
    "feb19 = pd.concat([pd.read_csv('./data/Feb19-AllRecords-PATTERNS-2019_02-2020-03-26/patterns-part1.csv.gz',\n",
    "                   compression='gzip'), \n",
    "                   pd.read_csv('./data/Feb19-AllRecords-PATTERNS-2019_02-2020-03-26/patterns-part2.csv.gz',\n",
    "                   compression='gzip'), \n",
    "                   pd.read_csv('./data/Feb19-AllRecords-PATTERNS-2019_02-2020-03-26/patterns-part3.csv.gz',\n",
    "                   compression='gzip')])\n",
    "\n",
    "# process feb 2019 data\n",
    "feb19 = filter_cities(feb19)\n",
    "feb19 = days_and_dates(feb19, time_type='seconds')\n",
    "\n",
    "# save to pickle\n",
    "feb19.to_pickle('./data/daily_cities_02-01-2019_02-28-2019.csv.gz',\n",
    "                compression='gzip')"
   ]
  },
  {
   "cell_type": "code",
   "execution_count": 35,
   "metadata": {},
   "outputs": [],
   "source": [
    "# read in historical data for march 2019\n",
    "mar19 = pd.concat([pd.read_csv('./data/Mar19-AllPatterns-PATTERNS-2019_03-2020-03-23/patterns-part1.csv.gz',\n",
    "                   compression='gzip'), \n",
    "                   pd.read_csv('./data/Mar19-AllPatterns-PATTERNS-2019_03-2020-03-23/patterns-part2.csv.gz',\n",
    "                   compression='gzip'), \n",
    "                   pd.read_csv('./data/Mar19-AllPatterns-PATTERNS-2019_03-2020-03-23/patterns-part3.csv.gz',\n",
    "                   compression='gzip')])\n",
    "\n",
    "# process march 2019 data\n",
    "mar19 = filter_cities(mar19)\n",
    "mar19 = days_and_dates(mar19, time_type='seconds')\n",
    "\n",
    "# save to pickle\n",
    "mar19.to_pickle('./data/daily_cities_03-01-2019_03-31-2019.csv.gz',\n",
    "                compression='gzip')"
   ]
  },
  {
   "cell_type": "code",
   "execution_count": 61,
   "metadata": {},
   "outputs": [],
   "source": [
    "# read in historical data for april 2019\n",
    "apr19 = pd.concat([pd.read_csv('./data/Apr19-AllPatterns-PATTERNS-2019_04-2020-03-23/patterns-part1.csv.gz',\n",
    "                   compression='gzip'), \n",
    "                   pd.read_csv('./data/Apr19-AllPatterns-PATTERNS-2019_04-2020-03-23/patterns-part2.csv.gz',\n",
    "                   compression='gzip'), \n",
    "                   pd.read_csv('./data/Apr19-AllPatterns-PATTERNS-2019_04-2020-03-23/patterns-part3.csv.gz',\n",
    "                   compression='gzip')])\n",
    "\n",
    "# process april 2019 data\n",
    "apr19 = filter_cities(apr19)\n",
    "apr19 = days_and_dates(apr19, time_type='seconds')\n",
    "\n",
    "# save to pickle\n",
    "apr19.to_pickle('./data/daily_cities_04-01-2019_04-30-2019.csv.gz',\n",
    "                compression='gzip')"
   ]
  },
  {
   "cell_type": "markdown",
   "metadata": {},
   "source": [
    "### Checkpoint - load from here for filtered, processed daily data from Jan-April 2019 and 2020 \n",
    "### [OUTDATED PROCESS]"
   ]
  },
  {
   "cell_type": "code",
   "execution_count": 3,
   "metadata": {},
   "outputs": [],
   "source": [
    "# read from pickles\n",
    "\n",
    "jan20 = pd.read_pickle('./data/daily_cities_01-01-2020_01-31-2020.csv.gz',\n",
    "                       compression='gzip')\n",
    "\n",
    "feb20 = pd.read_pickle('./data/daily_cities_02-01-2020_02-29-2020.csv.gz',\n",
    "                       compression='gzip')\n",
    "\n",
    "marapr20 = pd.read_pickle('./data/daily_cities_03-01-2020_04-25-2020.csv.gz',\n",
    "                       compression='gzip')\n",
    "\n",
    "jan19 = pd.read_pickle('./data/daily_cities_01-01-2019_01-31-2019.csv.gz',\n",
    "                       compression='gzip')\n",
    "\n",
    "feb19 = pd.read_pickle('./data/daily_cities_02-01-2019_02-28-2019.csv.gz',\n",
    "                       compression='gzip')\n",
    "\n",
    "mar19 = pd.read_pickle('./data/daily_cities_03-01-2019_03-31-2019.csv.gz',\n",
    "                       compression='gzip')\n",
    "\n",
    "apr19 = pd.read_pickle('./data/daily_cities_04-01-2019_04-30-2019.csv.gz',\n",
    "                       compression='gzip')"
   ]
  },
  {
   "cell_type": "code",
   "execution_count": 4,
   "metadata": {},
   "outputs": [],
   "source": [
    "'''\n",
    "Create Mar-Apr dataset, 19/20 joined on day\n",
    "OUTDATED\n",
    "'''\n",
    "\n",
    "# create one frame for 2019 data\n",
    "old=pd.concat([mar19, apr19])\n",
    "\n",
    "# create date column without year\n",
    "old['date_yearless'] = old['date'].dt.strftime('%m-%d')\n",
    "df['date_yearless'] = df['date'].dt.strftime('%m-%d')\n",
    "\n",
    "# join 2019 and 2020 datasets\n",
    "data = df.join(old.set_index(['date_yearless', 'safegraph_place_id']), \n",
    "               on=['date_yearless', 'safegraph_place_id'], how='inner',\n",
    "               lsuffix='_new', rsuffix='_old', sort=True)\n",
    "\n",
    "# remove and rename duplicate columns after join\n",
    "for col in old.columns:\n",
    "    if (col+'_new' in data.columns) and (col+'_old' in data.columns):\n",
    "        if all(data[col+'_new']==data[col+'_old']):\n",
    "            data = data.rename(columns={col+'_new':col}).drop(columns=[col+'_old'])\n",
    "\n",
    "# rename columns with only one source frame\n",
    "for col in data.columns:\n",
    "    if (col in df.columns) and (col not in old.columns):\n",
    "        data = data.rename(columns={col: col+'_new'})\n",
    "    if (col not in df.columns) and (col in old.columns):\n",
    "        data = data.rename(columns={col: col+'_old'})\n",
    "        \n",
    "# save to pickle\n",
    "data.to_pickle('./data/joined_03-01_04-25.csv.gz',\n",
    "                compression='gzip')"
   ]
  },
  {
   "cell_type": "markdown",
   "metadata": {},
   "source": [
    "### Checkpoint - load from here for joined Mar-20 2019/2020 dataset, joined on day \n",
    "### [OUTDATED]"
   ]
  },
  {
   "cell_type": "code",
   "execution_count": 24,
   "metadata": {},
   "outputs": [],
   "source": [
    "data = pd.read_pickle('./data/joined_03-01_04-25.csv.gz',\n",
    "                      compression='gzip')"
   ]
  },
  {
   "cell_type": "code",
   "execution_count": 4,
   "metadata": {},
   "outputs": [],
   "source": [
    "# view earliest date\n",
    "# data.date_yearless.min()"
   ]
  },
  {
   "cell_type": "code",
   "execution_count": 5,
   "metadata": {},
   "outputs": [],
   "source": [
    "# view latest date\n",
    "# data.date_yearless.max()"
   ]
  },
  {
   "cell_type": "code",
   "execution_count": 3,
   "metadata": {},
   "outputs": [],
   "source": [
    "# view all columns\n",
    "# sorted(data.columns)"
   ]
  },
  {
   "cell_type": "code",
   "execution_count": 1,
   "metadata": {},
   "outputs": [],
   "source": [
    "# #view data overview\n",
    "# data.head(10)"
   ]
  },
  {
   "cell_type": "code",
   "execution_count": 2,
   "metadata": {},
   "outputs": [],
   "source": [
    "# view rows where the location name has changed\n",
    "# data.loc[data['location_name_new']!= \\\n",
    "#          data['location_name_old']][['location_name_new', 'location_name_old']]"
   ]
  },
  {
   "cell_type": "markdown",
   "metadata": {},
   "source": [
    "### Checkpoint - load from here for filtered, processed daily data from March-April 2019 and 2020"
   ]
  },
  {
   "cell_type": "code",
   "execution_count": 13,
   "metadata": {},
   "outputs": [],
   "source": [
    "# create mar-april 2019 and 2020 dataframes, from pickles\n",
    "\n",
    "df20 = pd.read_pickle('./data/daily_cities_03-01-2020_04-25-2020.csv.gz',\n",
    "                       compression='gzip')\n",
    "\n",
    "df19 = pd.concat([pd.read_pickle('./data/daily_cities_03-01-2019_03-31-2019.csv.gz',\n",
    "                       compression='gzip'), \n",
    "                  pd.read_pickle('./data/daily_cities_04-01-2019_04-30-2019.csv.gz',\n",
    "                       compression='gzip')])"
   ]
  },
  {
   "cell_type": "code",
   "execution_count": 14,
   "metadata": {},
   "outputs": [],
   "source": [
    "# create week of year column, starting sunday, for groupby\n",
    "df20['week'] = df20['date'].apply(lambda x: (x + dt.timedelta(days=1)).week)\n",
    "df19['week'] = df19['date'].apply(lambda x: (x + dt.timedelta(days=1)).week)\n",
    "\n",
    "# create max_hourly_visits (for new data only)\n",
    "df20['max_hourly_visits'] = df20['visits_by_each_hour']\\\n",
    "                                            .apply(lambda x: max(ast.literal_eval(x)))\n",
    "\n",
    "#create num_related_same_day_brand\n",
    "df20['num_related_same_day_brand'] = df20['related_same_day_brand']\\\n",
    "                                            .apply(lambda x: len(ast.literal_eval(x)))\n",
    "df19['num_related_same_day_brand'] = df19['related_same_day_brand']\\\n",
    "                                            .apply(lambda x: len(ast.literal_eval(x)))\n",
    "\n",
    "# replace na with string of empty dictionary\n",
    "# for visit-related dicts with missing values \n",
    "df20['visitor_country_of_origin'].fillna('{}', inplace=True)\n",
    "df19['visitor_country_of_origin'].fillna('{}', inplace=True)\n",
    "df20['visitor_home_cbgs'].fillna('{}', inplace=True)\n",
    "df19['visitor_home_cbgs'].fillna('{}', inplace=True)\n",
    "\n",
    "#create visits_per_visitor_country_of_origin\n",
    "df20['num_visitor_country_of_origin'] = df20['visitor_country_of_origin']\\\n",
    "                                                .apply(lambda x: len(ast.literal_eval(x)))\n",
    "df19['num_visitor_country_of_origin'] = df19['visitor_country_of_origin']\\\n",
    "                                              .apply(lambda x: len(ast.literal_eval(x)))\n",
    "\n",
    "#create visits_per_visitor_home_cbgs\n",
    "df20['num_visitor_home_cbgs'] = df20['visitor_home_cbgs']\\\n",
    "                                              .apply(lambda x: len(ast.literal_eval(x)))\n",
    "df19['num_visitor_home_cbgs'] = df19['visitor_home_cbgs']\\\n",
    "                                              .apply(lambda x: len(ast.literal_eval(x)))"
   ]
  },
  {
   "cell_type": "code",
   "execution_count": 15,
   "metadata": {},
   "outputs": [],
   "source": [
    "agg_dict_20 = {'visits':'sum', # sum the column of interest\n",
    "               'raw_visit_counts': np.nanmedian,# to check sum is correct\n",
    "                # take \"first\" for location-based features (assuming doesnt change)\n",
    "                'location_name':'first', # to understand records when inspecting manually\n",
    "                'city': 'first',\n",
    "                'region':'first',\n",
    "                'postal_code': 'first',\n",
    "                'naics_code':'first',\n",
    "                'brands': 'first',\n",
    "                # take \"median\" for numerical visit-based features\n",
    "                'distance_from_home': np.nanmedian,\n",
    "                'raw_visitor_counts': np.nanmedian,\n",
    "                'median_dwell': np.nanmedian,\n",
    "                'num_visitor_country_of_origin': np.nanmedian,\n",
    "                'num_visitor_home_cbgs': np.nanmedian,\n",
    "                'num_related_same_day_brand': np.nanmedian,\n",
    "                'max_hourly_visits': np.nanmedian,\n",
    "                'related_same_day_brand':'first' #incase need to use more\n",
    "                  }\n",
    "\n",
    "agg_dict_19 = {'visits':'sum', # sum the column of interest\n",
    "                # take \"median\" for numerical visit-based features\n",
    "                'distance_from_home': np.nanmedian,\n",
    "                'median_dwell': np.nanmedian,\n",
    "                'num_related_same_day_brand': np.nanmedian,\n",
    "                'related_same_day_brand':'first' #incase need to use more\n",
    "                }\n"
   ]
  },
  {
   "cell_type": "code",
   "execution_count": 16,
   "metadata": {},
   "outputs": [],
   "source": [
    "#grouby week and location, and aggregate\n",
    "weekly19 = df19.groupby(['week', 'safegraph_place_id']).agg(agg_dict_19)\n",
    "weekly20 = df20.groupby(['week', 'safegraph_place_id']).agg(agg_dict_20)"
   ]
  },
  {
   "cell_type": "code",
   "execution_count": 17,
   "metadata": {},
   "outputs": [],
   "source": [
    "# join 2019 and 2020 \n",
    "joined = weekly20.join(weekly19, on=['week', 'safegraph_place_id'], how='inner',\n",
    "                       lsuffix='_2020', rsuffix='_2019', sort=True)"
   ]
  },
  {
   "cell_type": "code",
   "execution_count": 293,
   "metadata": {},
   "outputs": [],
   "source": [
    "#joined[joined['raw_visit_counts']!=joined['visits_2020']]"
   ]
  },
  {
   "cell_type": "markdown",
   "metadata": {},
   "source": [
    "There are 20 rows in which raw_visit_counts does not equal the sum of the daily visits. In each of these 20 cases, raw_visit_counts is exactly 1 higher than the sum. We will keep the sum, for consistency."
   ]
  },
  {
   "cell_type": "code",
   "execution_count": 18,
   "metadata": {},
   "outputs": [
    {
     "name": "stdout",
     "output_type": "stream",
     "text": [
      "3109\n",
      "1\n",
      "0\n"
     ]
    }
   ],
   "source": [
    "print(len(joined[joined['visits_2019']==0]))\n",
    "print(len(joined[joined['visits_2020']==0]))\n",
    "print(len(joined[joined['raw_visit_counts']==0]))"
   ]
  },
  {
   "cell_type": "markdown",
   "metadata": {},
   "source": [
    "Why are there so many more 0 visits in 2019? Has the 2020 data been altered? "
   ]
  },
  {
   "cell_type": "code",
   "execution_count": 21,
   "metadata": {},
   "outputs": [
    {
     "data": {
      "image/png": "[encoded data removed]",
      "text/plain": [
       "<Figure size 864x288 with 2 Axes>"
      ]
     },
     "metadata": {
      "needs_background": "light"
     },
     "output_type": "display_data"
    }
   ],
   "source": [
    "'''\n",
    "Benford's Law Plots\n",
    "'''\n",
    "benford_19 = list(joined['visits_2019'].apply(lambda x: str(x)[0]))\n",
    "benford_20 = list(joined['visits_2020'].apply(lambda x: str(x)[0]))\n",
    "\n",
    "fig, ax = plt.subplots(1, 2, figsize=(12,4))\n",
    "ax[0].hist(sorted(benford_19))\n",
    "ax[0].set_title('Benford\\'s Law: 2019')\n",
    "ax[1].hist(sorted(benford_20))\n",
    "ax[1].set_title('Benford\\'s Law: 2020')\n",
    "plt.show()"
   ]
  },
  {
   "cell_type": "code",
   "execution_count": 22,
   "metadata": {},
   "outputs": [],
   "source": [
    "# Add 1 to all visit counts, to avoid divide-by-zero errors\n",
    "joined['visits_2019'] = joined['visits_2019'] + 1\n",
    "joined['visits_2020'] = joined['visits_2020'] + 1"
   ]
  },
  {
   "cell_type": "code",
   "execution_count": 23,
   "metadata": {},
   "outputs": [],
   "source": [
    "# Calculate % change in visits from 2019 to 2020\n",
    "joined['change_in_visits'] = (joined['visits_2020'] - joined['visits_2019'])\\\n",
    "                                                /joined['visits_2019']"
   ]
  },
  {
   "cell_type": "code",
   "execution_count": 24,
   "metadata": {},
   "outputs": [
    {
     "data": {
      "text/plain": [
       "count    388440.000000\n",
       "mean         -0.104214\n",
       "std           5.837428\n",
       "min          -0.999824\n",
       "25%          -0.821053\n",
       "50%          -0.594771\n",
       "75%          -0.200000\n",
       "max        1605.000000\n",
       "Name: change_in_visits, dtype: float64"
      ]
     },
     "execution_count": 24,
     "metadata": {},
     "output_type": "execute_result"
    }
   ],
   "source": [
    "# Describe our new target variable\n",
    "joined['change_in_visits'].describe()"
   ]
  },
  {
   "cell_type": "code",
   "execution_count": 25,
   "metadata": {},
   "outputs": [
    {
     "data": {
      "text/plain": [
       "126"
      ]
     },
     "execution_count": 25,
     "metadata": {},
     "output_type": "execute_result"
    }
   ],
   "source": [
    "#How many places have more than 100x the visits they did in 2019?\n",
    "len(joined[joined['change_in_visits']>100])"
   ]
  },
  {
   "cell_type": "code",
   "execution_count": 330,
   "metadata": {},
   "outputs": [],
   "source": [
    "# save to pickle\n",
    "joined.to_pickle('./data/joined_weekly_03-01_04-25.csv.gz', \n",
    "             compression='gzip')"
   ]
  },
  {
   "cell_type": "markdown",
   "metadata": {},
   "source": [
    "### Checkpoint - load from here for joined weekly data, March-April 2019/2020"
   ]
  },
  {
   "cell_type": "code",
   "execution_count": 198,
   "metadata": {},
   "outputs": [],
   "source": [
    "df = pd.read_pickle('./data/joined_weekly_03-01_04-25.csv.gz', \n",
    "             compression='gzip')"
   ]
  },
  {
   "cell_type": "code",
   "execution_count": 199,
   "metadata": {},
   "outputs": [],
   "source": [
    "df.reset_index(drop=False, inplace=True)"
   ]
  },
  {
   "cell_type": "code",
   "execution_count": 200,
   "metadata": {},
   "outputs": [],
   "source": [
    "# Create 1-week lag columns\n",
    "lag_cols = ['visits_2020', 'distance_from_home_2020', 'raw_visitor_counts', \n",
    "            'median_dwell_2020', 'num_visitor_country_of_origin',\n",
    "            'num_visitor_home_cbgs', 'num_related_same_day_brand_2020',\n",
    "            'max_hourly_visits', 'related_same_day_brand_2020', 'visits_2019',\n",
    "            'distance_from_home_2019', 'median_dwell_2019',\n",
    "            'num_related_same_day_brand_2019', 'related_same_day_brand_2019',\n",
    "            'change_in_visits']\n",
    "\n",
    "for col in lag_cols:\n",
    "    df[col+'_lastweek'] = df.groupby('safegraph_place_id')[col].shift(1)"
   ]
  },
  {
   "cell_type": "code",
   "execution_count": 201,
   "metadata": {},
   "outputs": [],
   "source": [
    "# Create reverse-lag columns for 2019 features\n",
    "nextweek_cols = ['visits_2019', 'distance_from_home_2019', 'median_dwell_2019',\n",
    "                   'num_related_same_day_brand_2019', 'related_same_day_brand_2019']\n",
    "\n",
    "for col in nextweek_cols:\n",
    "    df[col+'_nextweek'] = df.groupby('safegraph_place_id')[col].shift(-1)"
   ]
  },
  {
   "cell_type": "code",
   "execution_count": 202,
   "metadata": {},
   "outputs": [],
   "source": [
    "# Create target column (next week's change in visits)\n",
    "df['target'] = df.groupby('safegraph_place_id')['change_in_visits'].shift(-1)"
   ]
  },
  {
   "cell_type": "code",
   "execution_count": 236,
   "metadata": {
    "scrolled": true
   },
   "outputs": [],
   "source": [
    "# df[df.safegraph_place_id=='sg:00001d1ef23c4747bfefd65b6fd0e514'][['week',\n",
    "#                                                                   'change_in_visits_lastweek', \n",
    "#                                                                   'change_in_visits', \n",
    "#                                                                   'target']]"
   ]
  },
  {
   "cell_type": "code",
   "execution_count": 336,
   "metadata": {},
   "outputs": [],
   "source": [
    "# df[df.safegraph_place_id=='sg:00001d1ef23c4747bfefd65b6fd0e514'][['week',\n",
    "#                                                                   'visits_2019_lastweek', \n",
    "#                                                                   'visits_2019', \n",
    "#                                                                   'visits_2019_nextweek', \n",
    "#                                                                   'visits_2020_lastweek', \n",
    "#                                                                   'visits_2020']]"
   ]
  },
  {
   "cell_type": "markdown",
   "metadata": {},
   "source": [
    "### Using the lag-columns reduces our dataset from 7 weeks to 6 weeks. Is this worth it? We could test the theory if we have time."
   ]
  },
  {
   "cell_type": "code",
   "execution_count": 205,
   "metadata": {},
   "outputs": [
    {
     "data": {
      "text/html": [
       "<div>\n",
       "<style scoped>\n",
       "    .dataframe tbody tr th:only-of-type {\n",
       "        vertical-align: middle;\n",
       "    }\n",
       "\n",
       "    .dataframe tbody tr th {\n",
       "        vertical-align: top;\n",
       "    }\n",
       "\n",
       "    .dataframe thead th {\n",
       "        text-align: right;\n",
       "    }\n",
       "</style>\n",
       "<table border=\"1\" class=\"dataframe\">\n",
       "  <thead>\n",
       "    <tr style=\"text-align: right;\">\n",
       "      <th></th>\n",
       "      <th>safegraph_place_id</th>\n",
       "    </tr>\n",
       "    <tr>\n",
       "      <th>week</th>\n",
       "      <th></th>\n",
       "    </tr>\n",
       "  </thead>\n",
       "  <tbody>\n",
       "    <tr>\n",
       "      <th>10</th>\n",
       "      <td>52230</td>\n",
       "    </tr>\n",
       "    <tr>\n",
       "      <th>11</th>\n",
       "      <td>51999</td>\n",
       "    </tr>\n",
       "    <tr>\n",
       "      <th>12</th>\n",
       "      <td>50210</td>\n",
       "    </tr>\n",
       "    <tr>\n",
       "      <th>13</th>\n",
       "      <td>47816</td>\n",
       "    </tr>\n",
       "    <tr>\n",
       "      <th>14</th>\n",
       "      <td>47182</td>\n",
       "    </tr>\n",
       "    <tr>\n",
       "      <th>15</th>\n",
       "      <td>46099</td>\n",
       "    </tr>\n",
       "    <tr>\n",
       "      <th>16</th>\n",
       "      <td>45828</td>\n",
       "    </tr>\n",
       "    <tr>\n",
       "      <th>17</th>\n",
       "      <td>47076</td>\n",
       "    </tr>\n",
       "  </tbody>\n",
       "</table>\n",
       "</div>"
      ],
      "text/plain": [
       "      safegraph_place_id\n",
       "week                    \n",
       "10                 52230\n",
       "11                 51999\n",
       "12                 50210\n",
       "13                 47816\n",
       "14                 47182\n",
       "15                 46099\n",
       "16                 45828\n",
       "17                 47076"
      ]
     },
     "execution_count": 205,
     "metadata": {},
     "output_type": "execute_result"
    }
   ],
   "source": [
    "# How many locations are in each week?\n",
    "df.groupby('week').agg({'safegraph_place_id':'count'})"
   ]
  },
  {
   "cell_type": "markdown",
   "metadata": {},
   "source": [
    "Need to remove IDs not present in all weeks."
   ]
  },
  {
   "cell_type": "code",
   "execution_count": 206,
   "metadata": {},
   "outputs": [],
   "source": [
    "# get list of ids in each week\n",
    "id_lists = df.groupby('week').agg({'safegraph_place_id':list})\\\n",
    "                                    ['safegraph_place_id'].tolist()"
   ]
  },
  {
   "cell_type": "code",
   "execution_count": 207,
   "metadata": {},
   "outputs": [],
   "source": [
    "# get intersection of all weeks\n",
    "final_set = set(id_lists[0])\n",
    "for i in range(1,len(id_lists)):\n",
    "    final_set = final_set & set(id_lists[i])"
   ]
  },
  {
   "cell_type": "code",
   "execution_count": 208,
   "metadata": {},
   "outputs": [],
   "source": [
    "# Keep only the IDs that appear in all groups\n",
    "df = df[df.safegraph_place_id.isin(final_set)]"
   ]
  },
  {
   "cell_type": "code",
   "execution_count": 209,
   "metadata": {},
   "outputs": [
    {
     "data": {
      "text/plain": [
       "305416"
      ]
     },
     "execution_count": 209,
     "metadata": {},
     "output_type": "execute_result"
    }
   ],
   "source": [
    "# New size of DF\n",
    "len(df)"
   ]
  },
  {
   "cell_type": "code",
   "execution_count": 210,
   "metadata": {},
   "outputs": [
    {
     "data": {
      "text/html": [
       "<div>\n",
       "<style scoped>\n",
       "    .dataframe tbody tr th:only-of-type {\n",
       "        vertical-align: middle;\n",
       "    }\n",
       "\n",
       "    .dataframe tbody tr th {\n",
       "        vertical-align: top;\n",
       "    }\n",
       "\n",
       "    .dataframe thead th {\n",
       "        text-align: right;\n",
       "    }\n",
       "</style>\n",
       "<table border=\"1\" class=\"dataframe\">\n",
       "  <thead>\n",
       "    <tr style=\"text-align: right;\">\n",
       "      <th></th>\n",
       "      <th>safegraph_place_id</th>\n",
       "    </tr>\n",
       "    <tr>\n",
       "      <th>week</th>\n",
       "      <th></th>\n",
       "    </tr>\n",
       "  </thead>\n",
       "  <tbody>\n",
       "    <tr>\n",
       "      <th>10</th>\n",
       "      <td>38177</td>\n",
       "    </tr>\n",
       "    <tr>\n",
       "      <th>11</th>\n",
       "      <td>38177</td>\n",
       "    </tr>\n",
       "    <tr>\n",
       "      <th>12</th>\n",
       "      <td>38177</td>\n",
       "    </tr>\n",
       "    <tr>\n",
       "      <th>13</th>\n",
       "      <td>38177</td>\n",
       "    </tr>\n",
       "    <tr>\n",
       "      <th>14</th>\n",
       "      <td>38177</td>\n",
       "    </tr>\n",
       "    <tr>\n",
       "      <th>15</th>\n",
       "      <td>38177</td>\n",
       "    </tr>\n",
       "    <tr>\n",
       "      <th>16</th>\n",
       "      <td>38177</td>\n",
       "    </tr>\n",
       "    <tr>\n",
       "      <th>17</th>\n",
       "      <td>38177</td>\n",
       "    </tr>\n",
       "  </tbody>\n",
       "</table>\n",
       "</div>"
      ],
      "text/plain": [
       "      safegraph_place_id\n",
       "week                    \n",
       "10                 38177\n",
       "11                 38177\n",
       "12                 38177\n",
       "13                 38177\n",
       "14                 38177\n",
       "15                 38177\n",
       "16                 38177\n",
       "17                 38177"
      ]
     },
     "execution_count": 210,
     "metadata": {},
     "output_type": "execute_result"
    }
   ],
   "source": [
    "# Check that this worked\n",
    "df.groupby('week').agg({'safegraph_place_id':'count'})"
   ]
  },
  {
   "cell_type": "code",
   "execution_count": 211,
   "metadata": {},
   "outputs": [
    {
     "name": "stdout",
     "output_type": "stream",
     "text": [
      "Number of rows missing NAICS code:  336\n",
      "Number of distinct locations missing NAICS code:  42\n"
     ]
    }
   ],
   "source": [
    "# Check for missing NAICS codes\n",
    "print('Number of rows missing NAICS code: ', len(df[df.naics_code.isna()]))\n",
    "print('Number of distinct locations missing NAICS code: ', \n",
    "      len(df[df.naics_code.isna()].groupby('safegraph_place_id')))"
   ]
  },
  {
   "cell_type": "code",
   "execution_count": 214,
   "metadata": {},
   "outputs": [
    {
     "name": "stdout",
     "output_type": "stream",
     "text": [
      "Number of rows with NAICS code as Nan:  0\n",
      "Number of rows with NAICS code as '0':  336\n",
      "Number of distinct locations missing NAICS code:  42\n"
     ]
    }
   ],
   "source": [
    "# create NAICS lookup\n",
    "naics_lists = df.groupby('safegraph_place_id').agg({'naics_code':list})\n",
    "\n",
    "# Replace NaN NAICS values\n",
    "df.loc[df.naics_code.isna(), 'naics_code'] = df.safegraph_place_id.apply(lambda x: \\\n",
    "              str(int(mode(list(naics_lists.loc[x])[0], nan_policy='omit')[0][0]))) \n",
    "                                                                        \n",
    "print('Number of rows with NAICS code as Nan: ', len(df[df.naics_code.isna()]))\n",
    "print('Number of rows with NAICS code as \\'0\\': ', len(df[df.naics_code=='0']))\n",
    "print('Number of distinct locations missing NAICS code: ', \n",
    "      len(df[df.naics_code=='0'].groupby('safegraph_place_id')))"
   ]
  },
  {
   "cell_type": "markdown",
   "metadata": {},
   "source": [
    "#### This didn't help at all. We could try to do a second pass with brand? Or use discarded rows?"
   ]
  },
  {
   "cell_type": "code",
   "execution_count": 223,
   "metadata": {},
   "outputs": [],
   "source": [
    "# create features for NAICS substrings\n",
    "\n",
    "def naics_parts(code, i):\n",
    "    if code=='0':\n",
    "        return np.nan\n",
    "    code=str(code)\n",
    "    return code[:i]\n",
    "\n",
    "for i in range(2,6):\n",
    "    df['naics_{}'.format(i)] = df['naics_code'].apply(naics_parts, args=(i,))"
   ]
  },
  {
   "cell_type": "code",
   "execution_count": 231,
   "metadata": {},
   "outputs": [],
   "source": [
    "# save as pickle\n",
    "df.to_pickle('./data/joined_weekly_03-01_04-25_feat_filt.csv.gz', \n",
    "             compression='gzip')"
   ]
  },
  {
   "cell_type": "code",
   "execution_count": 248,
   "metadata": {
    "scrolled": true
   },
   "outputs": [
    {
     "data": {
      "text/html": [
       "<div>\n",
       "<style scoped>\n",
       "    .dataframe tbody tr th:only-of-type {\n",
       "        vertical-align: middle;\n",
       "    }\n",
       "\n",
       "    .dataframe tbody tr th {\n",
       "        vertical-align: top;\n",
       "    }\n",
       "\n",
       "    .dataframe thead th {\n",
       "        text-align: right;\n",
       "    }\n",
       "</style>\n",
       "<table border=\"1\" class=\"dataframe\">\n",
       "  <thead>\n",
       "    <tr style=\"text-align: right;\">\n",
       "      <th></th>\n",
       "      <th>week</th>\n",
       "      <th>U_week</th>\n",
       "    </tr>\n",
       "  </thead>\n",
       "  <tbody>\n",
       "    <tr>\n",
       "      <th>0</th>\n",
       "      <td>10</td>\n",
       "      <td>09</td>\n",
       "    </tr>\n",
       "    <tr>\n",
       "      <th>1</th>\n",
       "      <td>10</td>\n",
       "      <td>09</td>\n",
       "    </tr>\n",
       "    <tr>\n",
       "      <th>2</th>\n",
       "      <td>10</td>\n",
       "      <td>09</td>\n",
       "    </tr>\n",
       "    <tr>\n",
       "      <th>3</th>\n",
       "      <td>10</td>\n",
       "      <td>09</td>\n",
       "    </tr>\n",
       "    <tr>\n",
       "      <th>4</th>\n",
       "      <td>10</td>\n",
       "      <td>09</td>\n",
       "    </tr>\n",
       "  </tbody>\n",
       "</table>\n",
       "</div>"
      ],
      "text/plain": [
       "   week U_week\n",
       "0    10     09\n",
       "1    10     09\n",
       "2    10     09\n",
       "3    10     09\n",
       "4    10     09"
      ]
     },
     "execution_count": 248,
     "metadata": {},
     "output_type": "execute_result"
    }
   ],
   "source": [
    "# test U_week vs current method\n",
    "dfcopy = df20.copy()\n",
    "dfcopy['U_week'] = dfcopy['date'].dt.strftime('%U')\n",
    "\n",
    "dfcopy[['week', 'U_week']].head()"
   ]
  },
  {
   "cell_type": "code",
   "execution_count": 246,
   "metadata": {
    "scrolled": true
   },
   "outputs": [
    {
     "data": {
      "text/plain": [
       "True"
      ]
     },
     "execution_count": 246,
     "metadata": {},
     "output_type": "execute_result"
    }
   ],
   "source": [
    "# ensure is always 1 more than current method\n",
    "all(dfcopy['week']==dfcopy['U_week'].astype(int)+1)"
   ]
  },
  {
   "cell_type": "code",
   "execution_count": 247,
   "metadata": {},
   "outputs": [],
   "source": [
    "# Decrease week by 1 to align with strftime '%U'\n",
    "df['week'] = df['week']-1"
   ]
  },
  {
   "cell_type": "code",
   "execution_count": 251,
   "metadata": {},
   "outputs": [],
   "source": [
    "# Drop raw_visit_counts (was only used for quality checking)\n",
    "df.drop(columns=['raw_visit_counts'], inplace=True)"
   ]
  },
  {
   "cell_type": "code",
   "execution_count": 255,
   "metadata": {},
   "outputs": [],
   "source": [
    "# create list of columns to drop and to use in joining\n",
    "to_drop=['location_name', 'city', 'region', 'brands']\n",
    "joining_columns=['week', 'postal_code']\n",
    "model_df = df.drop(columns=to_drop+joining_columns)"
   ]
  },
  {
   "cell_type": "code",
   "execution_count": 261,
   "metadata": {},
   "outputs": [
    {
     "name": "stdout",
     "output_type": "stream",
     "text": [
      "distance_from_home_2020\n",
      "80225\n",
      "\n",
      "\n",
      "distance_from_home_2019\n",
      "252\n",
      "\n",
      "\n",
      "target\n",
      "38177\n",
      "\n",
      "\n",
      "naics_2\n",
      "336\n",
      "\n",
      "\n",
      "naics_3\n",
      "336\n",
      "\n",
      "\n",
      "naics_4\n",
      "336\n",
      "\n",
      "\n",
      "naics_5\n",
      "336\n",
      "\n",
      "\n"
     ]
    }
   ],
   "source": [
    "# view number of remaining na values\n",
    "for col in model_df.columns:\n",
    "    if model_df[col].isna().sum()>0:\n",
    "        if '_lastweek' not in col:\n",
    "            if '_nextweek' not in col:\n",
    "                print(col)\n",
    "                print(model_df[col].isna().sum())\n",
    "                print('\\n')"
   ]
  },
  {
   "cell_type": "code",
   "execution_count": 266,
   "metadata": {},
   "outputs": [],
   "source": [
    "# drop 2020 distance because missing too often\n",
    "to_drop.append('distance_from_home_2020')"
   ]
  },
  {
   "cell_type": "code",
   "execution_count": 273,
   "metadata": {},
   "outputs": [],
   "source": [
    "# Fill missing 2019 distance with training median\n",
    "# Assume train/val split of 5 weeks vs 1 week\n",
    "latest_train_week=15\n",
    "\n",
    "# create distance missing feature\n",
    "df['distance_missing']=0\n",
    "df.loc[df.distance_from_home_2019.isna(), 'distance_missing'] = 1\n",
    "\n",
    "# Replace NaN with median from training weeks\n",
    "df.loc[df.distance_from_home_2019.isna(), 'distance_from_home_2019'] = \\\n",
    "        df.loc[df.week<=latest_train_week, 'distance_from_home_2019'].median()"
   ]
  },
  {
   "cell_type": "code",
   "execution_count": 279,
   "metadata": {},
   "outputs": [],
   "source": [
    "# Fill missing NAICS with 0\n",
    "for i in range(2,6):\n",
    "    df['naics_{}'.format(i)].fillna('0', inplace=True)"
   ]
  },
  {
   "cell_type": "code",
   "execution_count": 285,
   "metadata": {},
   "outputs": [],
   "source": [
    "# drop related same day brand dictionaries\n",
    "brands = [x for x in df.columns if x.startswith('related_same_day_brand')]\n",
    "to_drop = to_drop + brands"
   ]
  },
  {
   "cell_type": "code",
   "execution_count": 290,
   "metadata": {},
   "outputs": [],
   "source": [
    "# drop place ID\n",
    "to_drop.append('safegraph_place_id')"
   ]
  },
  {
   "cell_type": "code",
   "execution_count": 293,
   "metadata": {
    "scrolled": true
   },
   "outputs": [
    {
     "data": {
      "text/plain": [
       "['change_in_visits',\n",
       " 'change_in_visits_lastweek',\n",
       " 'distance_from_home_2019',\n",
       " 'distance_from_home_2019_lastweek',\n",
       " 'distance_from_home_2019_nextweek',\n",
       " 'distance_from_home_2020_lastweek',\n",
       " 'distance_missing',\n",
       " 'max_hourly_visits',\n",
       " 'max_hourly_visits_lastweek',\n",
       " 'median_dwell_2019',\n",
       " 'median_dwell_2019_lastweek',\n",
       " 'median_dwell_2019_nextweek',\n",
       " 'median_dwell_2020',\n",
       " 'median_dwell_2020_lastweek',\n",
       " 'naics_2',\n",
       " 'naics_3',\n",
       " 'naics_4',\n",
       " 'naics_5',\n",
       " 'naics_code',\n",
       " 'num_related_same_day_brand_2019',\n",
       " 'num_related_same_day_brand_2019_lastweek',\n",
       " 'num_related_same_day_brand_2019_nextweek',\n",
       " 'num_related_same_day_brand_2020',\n",
       " 'num_related_same_day_brand_2020_lastweek',\n",
       " 'num_visitor_country_of_origin',\n",
       " 'num_visitor_country_of_origin_lastweek',\n",
       " 'num_visitor_home_cbgs',\n",
       " 'num_visitor_home_cbgs_lastweek',\n",
       " 'raw_visitor_counts',\n",
       " 'raw_visitor_counts_lastweek',\n",
       " 'target',\n",
       " 'visits_2019',\n",
       " 'visits_2019_lastweek',\n",
       " 'visits_2019_nextweek',\n",
       " 'visits_2020',\n",
       " 'visits_2020_lastweek']"
      ]
     },
     "execution_count": 293,
     "metadata": {},
     "output_type": "execute_result"
    }
   ],
   "source": [
    "# view modeling columns\n",
    "model_df = df.drop(columns=to_drop+joining_columns)\n",
    "sorted(model_df.columns)"
   ]
  },
  {
   "cell_type": "code",
   "execution_count": 301,
   "metadata": {},
   "outputs": [],
   "source": [
    "#removing decimals from naics_code\n",
    "df['naics_code']=df['naics_code'].astype(int).astype(str)"
   ]
  },
  {
   "cell_type": "code",
   "execution_count": 313,
   "metadata": {},
   "outputs": [],
   "source": [
    "# remove 1st and last weeks\n",
    "df = df[(df.week!=df.week.min()) & (df.week!=df.week.max())]"
   ]
  },
  {
   "cell_type": "code",
   "execution_count": 327,
   "metadata": {},
   "outputs": [],
   "source": [
    "# create non-OHE version to share\n",
    "share_df = df.drop(columns=to_drop)"
   ]
  },
  {
   "cell_type": "code",
   "execution_count": 328,
   "metadata": {},
   "outputs": [],
   "source": [
    "# create OHE version to share\n",
    "naics_ohe = pd.get_dummies(share_df, columns=[x for x in share_df.columns if x.startswith('naics_')])"
   ]
  },
  {
   "cell_type": "code",
   "execution_count": 329,
   "metadata": {},
   "outputs": [],
   "source": [
    "# drop final dummy from each level (choose to drop 0s)\n",
    "naics_0s = ['naics_{}_0'.format(x) for x in range(2,6)]\n",
    "naics_0s.append('naics_code_0')\n",
    "naics_ohe.drop(columns=naics_0s, inplace=True)"
   ]
  },
  {
   "cell_type": "code",
   "execution_count": 330,
   "metadata": {},
   "outputs": [],
   "source": [
    "# save to csv\n",
    "naics_ohe.to_csv('./data/safegraph_ohe.csv.gz', \n",
    "                 compression='gzip', index=False)\n",
    "\n",
    "share_df.to_csv('./data/safegraph.csv.gz', \n",
    "                 compression='gzip', index=False)"
   ]
  },
  {
   "cell_type": "code",
   "execution_count": 331,
   "metadata": {},
   "outputs": [],
   "source": [
    "naics_ohe = pd.read_csv('./data/safegraph_ohe.csv.gz', \n",
    "                 compression='gzip')\n",
    "\n",
    "share_df = pd.read_csv('./data/safegraph.csv.gz', \n",
    "                 compression='gzip')\n"
   ]
  },
  {
   "cell_type": "code",
   "execution_count": 335,
   "metadata": {},
   "outputs": [],
   "source": [
    "# naics_ohe.head()"
   ]
  },
  {
   "cell_type": "code",
   "execution_count": 334,
   "metadata": {},
   "outputs": [],
   "source": [
    "# share_df.head()"
   ]
  },
  {
   "cell_type": "code",
   "execution_count": null,
   "metadata": {},
   "outputs": [],
   "source": []
  }
 ],
 "metadata": {
  "kernelspec": {
   "display_name": "Python 3",
   "language": "python",
   "name": "python3"
  },
  "language_info": {
   "codemirror_mode": {
    "name": "ipython",
    "version": 3
   },
   "file_extension": ".py",
   "mimetype": "text/x-python",
   "name": "python",
   "nbconvert_exporter": "python",
   "pygments_lexer": "ipython3",
   "version": "3.7.4"
  }
 },
 "nbformat": 4,
 "nbformat_minor": 4
}
