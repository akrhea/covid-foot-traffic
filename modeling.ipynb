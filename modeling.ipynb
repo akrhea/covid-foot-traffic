{
 "cells": [
  {
   "cell_type": "code",
   "execution_count": null,
   "metadata": {},
   "outputs": [],
   "source": [
    "import numpy as np\n",
    "import pandas as pd\n",
    "import matplotlib.pyplot as plt\n",
    "\n",
    "from sklearn import linear_model, kernel_ridge\n",
    "from sklearn import svm\n",
    "from sklearn.ensemble import RandomForestClassifier\n",
    "\n",
    "from sklearn import preprocessing\n",
    "from sklearn import model_selection\n",
    "from sklearn.preprocessing import StandardScaler\n",
    "from sklearn.model_selection import GridSearchCV\n",
    "from sklearn.metrics import mean_absolute_error,mean_squared_error, r2_score"
   ]
  },
  {
   "cell_type": "code",
   "execution_count": null,
   "metadata": {},
   "outputs": [],
   "source": [
    "# Dummy data for setup\n",
    "\n",
    "from sklearn import datasets\n",
    "from sklearn.model_selection import GridSearchCV\n",
    "boston = datasets.load_boston()\n",
    "X = boston['data']\n",
    "y = boston['target']\n",
    "\n",
    "X_train = X[:400,:]\n",
    "X_val = X[400:,:]\n",
    "y_train = y[:400]\n",
    "y_val = y[400:]"
   ]
  },
  {
   "cell_type": "code",
   "execution_count": null,
   "metadata": {},
   "outputs": [],
   "source": [
    "'''To Consider \n",
    "- Normalize features for some models\n",
    "- Need a validation set outside of GridsearchCV? Yes, because gridsearch uses different loss functions for each model.\n",
    "- Should we use time-based folds?\n",
    "- Set a standard scoring function in GridsearchCV?  Otherwise it defers to the individual regressors.\n",
    "'''"
   ]
  },
  {
   "cell_type": "code",
   "execution_count": null,
   "metadata": {},
   "outputs": [],
   "source": [
    "def lasso_covid(X,y):\n",
    "    reg = linear_model.Lasso()\n",
    "    params = {'alpha':(.01,.1,1)}\n",
    "    cv_reg = GridSearchCV(reg, \n",
    "                          params,\n",
    "                          n_jobs = 4,\n",
    "                          cv=5,\n",
    "                          refit=True)\n",
    "    cv_reg.fit(X,y)\n",
    "    return cv_reg\n",
    "\n",
    "def ridge_covid(X,y):\n",
    "    reg = linear_model.Ridge()\n",
    "    params = {'alpha':(.01,.1,1)}\n",
    "    cv_reg = GridSearchCV(reg, \n",
    "                          params,\n",
    "                          n_jobs = 4,\n",
    "                          cv=5,\n",
    "                          refit=True)\n",
    "    cv_reg.fit(X,y)\n",
    "    return cv_reg\n",
    "\n",
    "def kernel_ridge_covid(X,y):\n",
    "    reg = kernel_ridge.KernelRidge()\n",
    "    params = {'alpha':(.01,.1,1),\n",
    "              'kernel':('linear','rbf','lapacian'),\n",
    "             }\n",
    "    cv_reg = GridSearchCV(reg, \n",
    "                          params,\n",
    "                          n_jobs = 4,\n",
    "                          cv=5,\n",
    "                          refit=True)\n",
    "    cv_reg.fit(X,y)\n",
    "    return cv_reg"
   ]
  },
  {
   "cell_type": "code",
   "execution_count": null,
   "metadata": {},
   "outputs": [],
   "source": [
    "# Validation function\n",
    "\n",
    "def evaluate(reg_list,X_val,y_val):\n",
    "    for reg in reg_list:\n",
    "        mse = mean_squared_error(y_val,reg.predict(X_val))\n",
    "        mae = mean_absolute_error(y_val,reg.predict(X_val))\n",
    "        r2 = r2_score(y_val,reg.predict(X_val))\n",
    "        print(\"Validation Scores for {}\\n\".format(str(reg)[:8])+\"*\"*30)\n",
    "        print(\"MSE: {:2.4f}\".format(mse))\n",
    "        print(\"MAE: {:2.4f}\".format(mae))\n",
    "        print(\"r2: {:2.4f}\\n\".format(r2))\n",
    "        # To Do: Put these in a DF, not print out"
   ]
  },
  {
   "cell_type": "code",
   "execution_count": null,
   "metadata": {},
   "outputs": [],
   "source": [
    "lasso = lasso_covid(X_train,y_train)\n",
    "ridge = ridge_covid(X_train,y_train)\n",
    "kridge = kernel_ridge_covid(X_train,y_train)"
   ]
  },
  {
   "cell_type": "code",
   "execution_count": null,
   "metadata": {},
   "outputs": [],
   "source": [
    "# Create list of best estimators of each type\n",
    "reg_list = [lasso.best_estimator_,ridge.best_estimator_,kridge.best_estimator_]\n",
    "\n",
    "# Run validation function\n",
    "evaluate(reg_list,X_val,y_val)"
   ]
  },
  {
   "cell_type": "code",
   "execution_count": null,
   "metadata": {},
   "outputs": [],
   "source": []
  }
 ],
 "metadata": {
  "kernelspec": {
   "display_name": "Python 3",
   "language": "python",
   "name": "python3"
  },
  "language_info": {
   "codemirror_mode": {
    "name": "ipython",
    "version": 3
   },
   "file_extension": ".py",
   "mimetype": "text/x-python",
   "name": "python",
   "nbconvert_exporter": "python",
   "pygments_lexer": "ipython3",
   "version": "3.6.9"
  }
 },
 "nbformat": 4,
 "nbformat_minor": 2
}
