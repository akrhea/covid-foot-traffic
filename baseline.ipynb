{
 "cells": [
  {
   "cell_type": "code",
   "execution_count": 1,
   "metadata": {},
   "outputs": [],
   "source": [
    "import pandas as pd\n",
    "from sklearn.preprocessing import StandardScaler\n",
    "from sklearn.linear_model import LinearRegression\n",
    "from sklearn.metrics import mean_absolute_error,mean_squared_error"
   ]
  },
  {
   "cell_type": "code",
   "execution_count": 2,
   "metadata": {},
   "outputs": [],
   "source": [
    "data_lag = pd.read_csv('./data/safegraph_lag_ohe.csv.gz', compression='gzip')\n",
    "data_nolag = pd.read_csv('./data/safegraph_no-lag_ohe.csv.gz', compression='gzip')"
   ]
  },
  {
   "cell_type": "code",
   "execution_count": 3,
   "metadata": {},
   "outputs": [],
   "source": [
    "def LR(data):\n",
    "    '''\n",
    "    Fit and evaluation linear regression on data\n",
    "    '''\n",
    "\n",
    "    # Set features, specify which ones to scale\n",
    "    feature_cols = list(data.columns)\n",
    "    for x in ['week', 'postal_code', 'target']:\n",
    "        feature_cols.remove(x)\n",
    "    scale_cols = [x for x in feature_cols if not x.startswith('naics_')]\n",
    "\n",
    "\n",
    "    # Make week 15 the test set\n",
    "    test_data = data[data['week']==15].copy()\n",
    "    X_test = test_data[feature_cols]\n",
    "    y_test = test_data['target'].apply(lambda x: min(x, 5))\n",
    "\n",
    "    # Make week 14 the validation set\n",
    "    val_data = data[data['week']==14].copy()\n",
    "    X_val = val_data[feature_cols]\n",
    "    y_val = val_data['target'].apply(lambda x: min(x, 5))\n",
    "\n",
    "    # Make train everything else\n",
    "    train_data = data[data['week']<14].copy()\n",
    "    X_train = train_data[feature_cols]\n",
    "    y_train = train_data['target'].apply(lambda x: min(x, 5))\n",
    "\n",
    "    del(test_data,val_data,train_data)\n",
    "\n",
    "    # Scale everything based on X_train\n",
    "    scaler = StandardScaler(with_std=False)\n",
    "    scaler.fit(X_train[scale_cols])\n",
    "    X_train[scale_cols] = scaler.transform(X_train[scale_cols])\n",
    "    X_val[scale_cols] = scaler.transform(X_val[scale_cols])\n",
    "    X_test[scale_cols] = scaler.transform(X_test[scale_cols])\n",
    "\n",
    "    # Fit model\n",
    "    reg = LinearRegression().fit(X_train, y_train)\n",
    "\n",
    "    # Evaluation\n",
    "    print('Training set r2: ', reg.score(X_train, y_train))\n",
    "    print('Validation set r2: ', reg.score(X_val, y_val))\n",
    "    print('\\n')\n",
    "    pred_train = reg.predict(X_train)\n",
    "    pred_val = reg.predict(X_val)\n",
    "    print('Training set MSE: ', mean_squared_error(y_train, pred_train))\n",
    "    print('Validation set MSE: ', mean_squared_error(y_val, pred_val))\n",
    "    print('\\n')\n",
    "    print('Training set MAE: ', mean_absolute_error(y_train, pred_train))\n",
    "    print('Validation set MAE: ', mean_absolute_error(y_val, pred_val))\n",
    "    print('\\n')\n",
    "    \n",
    "    return"
   ]
  },
  {
   "cell_type": "code",
   "execution_count": 4,
   "metadata": {},
   "outputs": [
    {
     "name": "stdout",
     "output_type": "stream",
     "text": [
      "Linear regression on data without lag variables\n",
      "\n",
      "Training set r2:  0.23035741165378942\n",
      "Validation set r2:  0.15805063384253915\n",
      "\n",
      "\n",
      "Training set MSE:  0.6439127445937558\n",
      "Validation set MSE:  0.42117715018334123\n",
      "\n",
      "\n",
      "Training set MAE:  0.4586889968624915\n",
      "Validation set MAE:  0.3932796157323233\n",
      "\n",
      "\n",
      "-----------------------------------------------\n",
      "\n",
      "Linear regression on data with lag variables\n",
      "\n",
      "Training set r2:  0.2719772584571466\n",
      "Validation set r2:  0.22706518114514807\n",
      "\n",
      "\n",
      "Training set MSE:  0.49619566931001247\n",
      "Validation set MSE:  0.38665328031362983\n",
      "\n",
      "\n",
      "Training set MAE:  0.38393375732497287\n",
      "Validation set MAE:  0.3504706704067968\n",
      "\n",
      "\n"
     ]
    }
   ],
   "source": [
    "print('Linear regression on data without lag variables\\n')\n",
    "LR(data_nolag)\n",
    "\n",
    "print('-----------------------------------------------\\n')\n",
    "\n",
    "print('Linear regression on data with lag variables\\n')\n",
    "LR(data_lag)\n",
    "\n"
   ]
  }
 ],
 "metadata": {
  "kernelspec": {
   "display_name": "Python 3",
   "language": "python",
   "name": "python3"
  },
  "language_info": {
   "codemirror_mode": {
    "name": "ipython",
    "version": 3
   },
   "file_extension": ".py",
   "mimetype": "text/x-python",
   "name": "python",
   "nbconvert_exporter": "python",
   "pygments_lexer": "ipython3",
   "version": "3.7.4"
  }
 },
 "nbformat": 4,
 "nbformat_minor": 4
}
