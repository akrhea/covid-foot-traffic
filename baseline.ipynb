{
 "cells": [
  {
   "cell_type": "code",
   "execution_count": 1,
   "metadata": {},
   "outputs": [],
   "source": [
    "import pandas as pd\n",
    "from sklearn.preprocessing import StandardScaler\n",
    "from sklearn.linear_model import LinearRegression\n",
    "from sklearn.metrics import mean_absolute_error,mean_squared_error"
   ]
  },
  {
   "cell_type": "code",
   "execution_count": 2,
   "metadata": {},
   "outputs": [],
   "source": [
    "data = pd.read_csv('./data/safegraph_ohe.csv.gz', compression='gzip')"
   ]
  },
  {
   "cell_type": "code",
   "execution_count": 3,
   "metadata": {},
   "outputs": [],
   "source": [
    "# Set SafeGraph features\n",
    "feature_cols = list(data.columns)\n",
    "for x in ['week', 'postal_code', 'target']:\n",
    "    feature_cols.remove(x)\n",
    "scale_cols = [x for x in feature_cols if not x.startswith('naics_')]\n",
    "\n",
    "# Set SafeGraph features without lag\n",
    "basic_feature_cols = [x for x in feature_cols if not \\\n",
    "                      ((x.endswith('_lastweek')) or ((x.endswith('_nextweek'))))]\n",
    "basic_scale_cols = [x for x in basic_feature_cols if not x.startswith('naics_')]"
   ]
  },
  {
   "cell_type": "code",
   "execution_count": 4,
   "metadata": {},
   "outputs": [
    {
     "name": "stdout",
     "output_type": "stream",
     "text": [
      "Training set r2:  0.6464452846205154\n",
      "Validation set r2:  0.6164407714770381\n",
      "\n",
      "\n",
      "Training set MSE:  4.0489845875171\n",
      "Validation set MSE:  2.798973679804583\n",
      "\n",
      "\n",
      "Training set MAE:  0.36741371793675637\n",
      "Validation set MAE:  0.30227328813574694\n"
     ]
    }
   ],
   "source": [
    "'''\n",
    "Linear Regression on SafeGraph features without lag\n",
    "'''\n",
    "\n",
    "# Make week 15 the test set\n",
    "test_data = data[data['week']==15].copy()\n",
    "X_test = test_data[basic_feature_cols]\n",
    "y_test = test_data['target']\n",
    "\n",
    "# Make week 14 the validation set\n",
    "val_data = data[data['week']==14].copy()\n",
    "X_val = val_data[basic_feature_cols]\n",
    "y_val = val_data['target']\n",
    "\n",
    "# Make train everything else\n",
    "train_data = data[data['week']<14].copy()\n",
    "X_train = train_data[basic_feature_cols]\n",
    "y_train = train_data['target']\n",
    "\n",
    "del(test_data,val_data,train_data)\n",
    "\n",
    "# Scale everything based on X_train\n",
    "scaler_basic = StandardScaler(with_std=False)\n",
    "scaler_basic.fit(X_train[basic_scale_cols])\n",
    "X_train[basic_scale_cols] = scaler_basic.transform(X_train[basic_scale_cols])\n",
    "X_val[basic_scale_cols] = scaler_basic.transform(X_val[basic_scale_cols])\n",
    "X_test[basic_scale_cols] = scaler_basic.transform(X_test[basic_scale_cols])\n",
    "\n",
    "# Fit model\n",
    "reg_basic = LinearRegression().fit(X_train, y_train)\n",
    "\n",
    "# Evaluation\n",
    "print('Training set r2: ', reg_basic.score(X_train, y_train))\n",
    "print('Validation set r2: ', reg_basic.score(X_val, y_val))\n",
    "print('\\n')\n",
    "pred_train = reg_basic.predict(X_train)\n",
    "pred_val = reg_basic.predict(X_val)\n",
    "print('Training set MSE: ', mean_squared_error(y_train, pred_train))\n",
    "print('Validation set MSE: ', mean_squared_error(y_val, pred_val))\n",
    "print('\\n')\n",
    "print('Training set MAE: ', mean_absolute_error(y_train, pred_train))\n",
    "print('Validation set MAE: ', mean_absolute_error(y_val, pred_val))\n",
    "\n",
    "del(X_train, y_train, X_val, y_val, X_test, y_test)"
   ]
  },
  {
   "cell_type": "code",
   "execution_count": 5,
   "metadata": {},
   "outputs": [
    {
     "name": "stdout",
     "output_type": "stream",
     "text": [
      "Training set r2:  0.6611908575627418\n",
      "Validation set r2:  0.6140657768618413\n",
      "\n",
      "\n",
      "Training set MSE:  3.8801151170219876\n",
      "Validation set MSE:  2.8163048947077223\n",
      "\n",
      "\n",
      "Training set MAE:  0.3666799905087766\n",
      "Validation set MAE:  0.347673262427686\n"
     ]
    }
   ],
   "source": [
    "'''\n",
    "Linear Regression on all SafeGraph features\n",
    "'''\n",
    "\n",
    "# Make week 15 the test set\n",
    "test_data = data[data['week']==15].copy()\n",
    "X_test = test_data[feature_cols]\n",
    "y_test = test_data['target']\n",
    "\n",
    "# Make week 14 the validation set\n",
    "val_data = data[data['week']==14].copy()\n",
    "X_val = val_data[feature_cols]\n",
    "y_val = val_data['target']\n",
    "\n",
    "# Make train everything else\n",
    "train_data = data[data['week']<14].copy()\n",
    "X_train = train_data[feature_cols]\n",
    "y_train = train_data['target']\n",
    "\n",
    "del(test_data,val_data,train_data)\n",
    "\n",
    "# Scale everything based on X_train\n",
    "scaler_all = StandardScaler(with_std=False)\n",
    "scaler_all.fit(X_train[scale_cols])\n",
    "X_train[scale_cols] = scaler_all.transform(X_train[scale_cols])\n",
    "X_val[scale_cols] = scaler_all.transform(X_val[scale_cols])\n",
    "X_test[scale_cols] = scaler_all.transform(X_test[scale_cols])\n",
    "\n",
    "# Fit model\n",
    "reg_all = LinearRegression().fit(X_train, y_train)\n",
    "\n",
    "# Evaluation\n",
    "print('Training set r2: ', reg_all.score(X_train, y_train))\n",
    "print('Validation set r2: ', reg_all.score(X_val, y_val))\n",
    "print('\\n')\n",
    "pred_train = reg_all.predict(X_train)\n",
    "pred_val = reg_all.predict(X_val)\n",
    "print('Training set MSE: ', mean_squared_error(y_train, pred_train))\n",
    "print('Validation set MSE: ', mean_squared_error(y_val, pred_val))\n",
    "print('\\n')\n",
    "print('Training set MAE: ', mean_absolute_error(y_train, pred_train))\n",
    "print('Validation set MAE: ', mean_absolute_error(y_val, pred_val))"
   ]
  },
  {
   "cell_type": "code",
   "execution_count": null,
   "metadata": {},
   "outputs": [],
   "source": []
  }
 ],
 "metadata": {
  "kernelspec": {
   "display_name": "Python 3",
   "language": "python",
   "name": "python3"
  },
  "language_info": {
   "codemirror_mode": {
    "name": "ipython",
    "version": 3
   },
   "file_extension": ".py",
   "mimetype": "text/x-python",
   "name": "python",
   "nbconvert_exporter": "python",
   "pygments_lexer": "ipython3",
   "version": "3.7.4"
  }
 },
 "nbformat": 4,
 "nbformat_minor": 4
}
